{
  "nbformat": 4,
  "nbformat_minor": 0,
  "metadata": {
    "colab": {
      "name": "Connection To DB_Python.ipynb",
      "provenance": []
    },
    "kernelspec": {
      "name": "python3",
      "display_name": "Python 3"
    },
    "language_info": {
      "name": "python"
    }
  },
  "cells": [
    {
      "cell_type": "markdown",
      "source": [
        "# Connection to Database using Python"
      ],
      "metadata": {
        "id": "FeNnGXg2602q"
      }
    },
    {
      "cell_type": "markdown",
      "source": [
        "##### Required installations"
      ],
      "metadata": {
        "id": "A4mMBE0s7Npq"
      }
    },
    {
      "cell_type": "code",
      "execution_count": null,
      "metadata": {
        "id": "MtTOJVgP6uZc"
      },
      "outputs": [],
      "source": [
        "!pip install db-sqlite3"
      ]
    },
    {
      "cell_type": "markdown",
      "source": [
        "##### Imports"
      ],
      "metadata": {
        "id": "1dgGBjTO7i-W"
      }
    },
    {
      "cell_type": "code",
      "source": [
        "import pandas as pd\n",
        "import sqlite3\n",
        "from datetime import date"
      ],
      "metadata": {
        "id": "vbCWnUXY7nZI"
      },
      "execution_count": 2,
      "outputs": []
    },
    {
      "cell_type": "markdown",
      "source": [
        "##### Connecting to database"
      ],
      "metadata": {
        "id": "rORVMfMt8-Zb"
      }
    },
    {
      "cell_type": "code",
      "source": [
        "db = sqlite3.connect(\"ProjectDatabase.db\")"
      ],
      "metadata": {
        "id": "rNOeZMWU9CsV"
      },
      "execution_count": 3,
      "outputs": []
    },
    {
      "cell_type": "markdown",
      "source": [
        "##### Check if a table already exists before creation and if so delete it and create new table"
      ],
      "metadata": {
        "id": "tourU1AI9Vqf"
      }
    },
    {
      "cell_type": "code",
      "source": [
        "db.execute(\"drop table if exists projectData\")\n",
        "try:\n",
        "  db.execute(\"create table projectData(Name text, DOB datetime, Email_ID text)\")\n",
        "except:\n",
        "  print(\"Table already exists!!\")"
      ],
      "metadata": {
        "id": "cKrQqGd-9cyy"
      },
      "execution_count": 4,
      "outputs": []
    },
    {
      "cell_type": "markdown",
      "source": [
        "##### Take some dummy data to insert in table"
      ],
      "metadata": {
        "id": "PlFaZpWn-Xjs"
      }
    },
    {
      "cell_type": "code",
      "source": [
        "Names = ['Mike', 'John', 'Karine'] \n",
        "DOBs = [date.today().strftime(\"%m-%d-%Y\"), \"04-20-1997\", \"09-18-1993\"]\n",
        "Email_IDS = ['mike@gmail.com', 'john97@yahoo.com', 'kar93ine@abc.edu']\n"
      ],
      "metadata": {
        "id": "R7cA8YTa-736"
      },
      "execution_count": 5,
      "outputs": []
    },
    {
      "cell_type": "markdown",
      "source": [
        "##### Put above data in table"
      ],
      "metadata": {
        "id": "Qs_amvJ_ARnq"
      }
    },
    {
      "cell_type": "code",
      "source": [
        "for i in range(len(Names)):\n",
        "  insertCmd = \"insert into projectData(Name, DOB, Email_ID) values ('{}', '{}', '{}')\".format(Names[i], DOBs[i], Email_IDS[i])\n",
        "  db.execute(insertCmd)\n",
        "  db.commit()"
      ],
      "metadata": {
        "id": "LLNs6SOuAW6B"
      },
      "execution_count": 6,
      "outputs": []
    },
    {
      "cell_type": "markdown",
      "source": [
        "##### Method1: Get data"
      ],
      "metadata": {
        "id": "rODQv48gCr7P"
      }
    },
    {
      "cell_type": "code",
      "source": [
        "data = db.execute(\"SELECT * FROM projectData\")\n",
        "for row in data:\n",
        "  print(row)"
      ],
      "metadata": {
        "id": "DWKYTVx6CvB2"
      },
      "execution_count": null,
      "outputs": []
    },
    {
      "cell_type": "markdown",
      "source": [
        "##### Method2: Get data"
      ],
      "metadata": {
        "id": "ABYstX2XDAs9"
      }
    },
    {
      "cell_type": "code",
      "source": [
        "query = \"\"\"\n",
        "\n",
        "SELECT * FROM projectData\n",
        "\n",
        "\"\"\"\n",
        "df = pd.read_sql_query(query, db)\n",
        "df.head()"
      ],
      "metadata": {
        "colab": {
          "base_uri": "https://localhost:8080/",
          "height": 143
        },
        "id": "DqCmGfUwDbqa",
        "outputId": "8494b83e-a543-4fa8-895e-a55951dc1be4"
      },
      "execution_count": 8,
      "outputs": [
        {
          "output_type": "execute_result",
          "data": {
            "text/html": [
              "\n",
              "  <div id=\"df-c92335a0-0c7f-4c66-b0c3-5b22eaab3249\">\n",
              "    <div class=\"colab-df-container\">\n",
              "      <div>\n",
              "<style scoped>\n",
              "    .dataframe tbody tr th:only-of-type {\n",
              "        vertical-align: middle;\n",
              "    }\n",
              "\n",
              "    .dataframe tbody tr th {\n",
              "        vertical-align: top;\n",
              "    }\n",
              "\n",
              "    .dataframe thead th {\n",
              "        text-align: right;\n",
              "    }\n",
              "</style>\n",
              "<table border=\"1\" class=\"dataframe\">\n",
              "  <thead>\n",
              "    <tr style=\"text-align: right;\">\n",
              "      <th></th>\n",
              "      <th>Name</th>\n",
              "      <th>DOB</th>\n",
              "      <th>Email_ID</th>\n",
              "    </tr>\n",
              "  </thead>\n",
              "  <tbody>\n",
              "    <tr>\n",
              "      <th>0</th>\n",
              "      <td>Mike</td>\n",
              "      <td>01-14-2022</td>\n",
              "      <td>mike@gmail.com</td>\n",
              "    </tr>\n",
              "    <tr>\n",
              "      <th>1</th>\n",
              "      <td>John</td>\n",
              "      <td>04-20-1997</td>\n",
              "      <td>john97@yahoo.com</td>\n",
              "    </tr>\n",
              "    <tr>\n",
              "      <th>2</th>\n",
              "      <td>Karine</td>\n",
              "      <td>09-18-1993</td>\n",
              "      <td>kar93ine@abc.edu</td>\n",
              "    </tr>\n",
              "  </tbody>\n",
              "</table>\n",
              "</div>\n",
              "      <button class=\"colab-df-convert\" onclick=\"convertToInteractive('df-c92335a0-0c7f-4c66-b0c3-5b22eaab3249')\"\n",
              "              title=\"Convert this dataframe to an interactive table.\"\n",
              "              style=\"display:none;\">\n",
              "        \n",
              "  <svg xmlns=\"http://www.w3.org/2000/svg\" height=\"24px\"viewBox=\"0 0 24 24\"\n",
              "       width=\"24px\">\n",
              "    <path d=\"M0 0h24v24H0V0z\" fill=\"none\"/>\n",
              "    <path d=\"M18.56 5.44l.94 2.06.94-2.06 2.06-.94-2.06-.94-.94-2.06-.94 2.06-2.06.94zm-11 1L8.5 8.5l.94-2.06 2.06-.94-2.06-.94L8.5 2.5l-.94 2.06-2.06.94zm10 10l.94 2.06.94-2.06 2.06-.94-2.06-.94-.94-2.06-.94 2.06-2.06.94z\"/><path d=\"M17.41 7.96l-1.37-1.37c-.4-.4-.92-.59-1.43-.59-.52 0-1.04.2-1.43.59L10.3 9.45l-7.72 7.72c-.78.78-.78 2.05 0 2.83L4 21.41c.39.39.9.59 1.41.59.51 0 1.02-.2 1.41-.59l7.78-7.78 2.81-2.81c.8-.78.8-2.07 0-2.86zM5.41 20L4 18.59l7.72-7.72 1.47 1.35L5.41 20z\"/>\n",
              "  </svg>\n",
              "      </button>\n",
              "      \n",
              "  <style>\n",
              "    .colab-df-container {\n",
              "      display:flex;\n",
              "      flex-wrap:wrap;\n",
              "      gap: 12px;\n",
              "    }\n",
              "\n",
              "    .colab-df-convert {\n",
              "      background-color: #E8F0FE;\n",
              "      border: none;\n",
              "      border-radius: 50%;\n",
              "      cursor: pointer;\n",
              "      display: none;\n",
              "      fill: #1967D2;\n",
              "      height: 32px;\n",
              "      padding: 0 0 0 0;\n",
              "      width: 32px;\n",
              "    }\n",
              "\n",
              "    .colab-df-convert:hover {\n",
              "      background-color: #E2EBFA;\n",
              "      box-shadow: 0px 1px 2px rgba(60, 64, 67, 0.3), 0px 1px 3px 1px rgba(60, 64, 67, 0.15);\n",
              "      fill: #174EA6;\n",
              "    }\n",
              "\n",
              "    [theme=dark] .colab-df-convert {\n",
              "      background-color: #3B4455;\n",
              "      fill: #D2E3FC;\n",
              "    }\n",
              "\n",
              "    [theme=dark] .colab-df-convert:hover {\n",
              "      background-color: #434B5C;\n",
              "      box-shadow: 0px 1px 3px 1px rgba(0, 0, 0, 0.15);\n",
              "      filter: drop-shadow(0px 1px 2px rgba(0, 0, 0, 0.3));\n",
              "      fill: #FFFFFF;\n",
              "    }\n",
              "  </style>\n",
              "\n",
              "      <script>\n",
              "        const buttonEl =\n",
              "          document.querySelector('#df-c92335a0-0c7f-4c66-b0c3-5b22eaab3249 button.colab-df-convert');\n",
              "        buttonEl.style.display =\n",
              "          google.colab.kernel.accessAllowed ? 'block' : 'none';\n",
              "\n",
              "        async function convertToInteractive(key) {\n",
              "          const element = document.querySelector('#df-c92335a0-0c7f-4c66-b0c3-5b22eaab3249');\n",
              "          const dataTable =\n",
              "            await google.colab.kernel.invokeFunction('convertToInteractive',\n",
              "                                                     [key], {});\n",
              "          if (!dataTable) return;\n",
              "\n",
              "          const docLinkHtml = 'Like what you see? Visit the ' +\n",
              "            '<a target=\"_blank\" href=https://colab.research.google.com/notebooks/data_table.ipynb>data table notebook</a>'\n",
              "            + ' to learn more about interactive tables.';\n",
              "          element.innerHTML = '';\n",
              "          dataTable['output_type'] = 'display_data';\n",
              "          await google.colab.output.renderOutput(dataTable, element);\n",
              "          const docLink = document.createElement('div');\n",
              "          docLink.innerHTML = docLinkHtml;\n",
              "          element.appendChild(docLink);\n",
              "        }\n",
              "      </script>\n",
              "    </div>\n",
              "  </div>\n",
              "  "
            ],
            "text/plain": [
              "     Name         DOB          Email_ID\n",
              "0    Mike  01-14-2022    mike@gmail.com\n",
              "1    John  04-20-1997  john97@yahoo.com\n",
              "2  Karine  09-18-1993  kar93ine@abc.edu"
            ]
          },
          "metadata": {},
          "execution_count": 8
        }
      ]
    }
  ]
}